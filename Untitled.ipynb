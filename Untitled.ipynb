{
 "cells": [
  {
   "cell_type": "markdown",
   "metadata": {},
   "source": [
    "# A decision support system of dynamic vehicle refueling"
   ]
  },
  {
   "cell_type": "code",
   "execution_count": 1,
   "metadata": {},
   "outputs": [],
   "source": [
    "import scipy.stats as stats\n",
    "import random as rd\n",
    "import numpy as np\n",
    "import matplotlib.pyplot as plt\n",
    "import math"
   ]
  },
  {
   "cell_type": "markdown",
   "metadata": {},
   "source": [
    "# Setting Simulation Environment\n",
    "\n",
    "****\n"
   ]
  },
  {
   "cell_type": "markdown",
   "metadata": {},
   "source": [
    "##  Given simulation parameters\n",
    "\n",
    ">### Random Variables\n",
    "- Miles from one TS to another : Gamma → m1, m2, ...\n",
    "- Out-of-route miles to TS (one way): Exponential → a1, a2, ...\n",
    "- Diesel price within region (excl. tax): Normal \n",
    "- Price movement (from day to day): Normal\n",
    "- Price forecast error: Normal\n",
    "\n",
    ">### Constant Term\n",
    "- Tank capacity\n",
    "- Starting fuel\n",
    "- Min gal. to refuel\n",
    "- Min ending fuel\n",
    "- Min fuel to be maintained at all times "
   ]
  },
  {
   "cell_type": "markdown",
   "metadata": {},
   "source": [
    "## Unknow simulation parameters \n",
    "\n",
    ">### Assumption value\n",
    "- Total trip miles (actual miles)\n",
    "- Daily mile (excluding out-of-route)\n",
    "- Miles per gallon"
   ]
  },
  {
   "cell_type": "code",
   "execution_count": 2,
   "metadata": {},
   "outputs": [
    {
     "data": {
      "image/png": "[encoded data removed]",
      "text/plain": [
       "<Figure size 432x288 with 1 Axes>"
      ]
     },
     "metadata": {
      "needs_background": "light"
     },
     "output_type": "display_data"
    },
    {
     "name": "stdout",
     "output_type": "stream",
     "text": [
      "Average out-of-route miles to TS :  0.4422688171279032 \n",
      "\n",
      "gamma distribution parameter :  0.0798215622394503 0.02502188069896145 3.586234834209913 \n",
      "\n",
      "Miles from one TS to another 61 \n",
      " [38.69604625641863, 81.3961133718199, 27.926573945808393, 0.025021880698961455, 33.4873353706654, 57.64896727083342, 2.6851847659430286, 2.7205482209068452, 1.962498657566844, 71.6353599442748, 40.115662712693116, 1.2193819685873921, 2.218411532484331, 1.0546663733951598, 0.41783160502853334, 329.922582534524, 6.565326309041848, 94.01159179335119, 193.04722949499077, 67.84886231266483, 1.90792881755318, 24.962444367484192, 7.515660564447658, 70.64724269574378, 90.88992578307536, 55.974689504953766, 11.356692901923061, 3.3747389142602495, 107.39065343617757, 12.252410177460328, 0.17628921516071366, 6.449933117221701, 0.5296192210486311, 3.322814910906712, 157.48336207699566, 3.546233637590577, 13.484950068073683, 53.0074121408101, 63.39408619477825, 5.852054006352341, 47.55621153226074, 86.23590991602167, 3.899395435655416, 25.17999996204232, 33.92424558514418, 95.55750686099509, 20.073043073598956, 0.15935013413700755, 4.029536777787653, 4.696210026881053, 1.6866309777875155, 14.811669730863564, 0.23738904565516616, 60.22346191967434, 15.903463912328048, 9.854736408885595, 37.418098788072925, 3.3033931799170944, 40.71828358013863, 1.1013019086726845, 25.246657830247283]\n"
     ]
    }
   ],
   "source": [
    "fig, ax = plt.subplots(1, 1)\n",
    "numberOfStops=60\n",
    "\n",
    "m=[]\n",
    "a=[]\n",
    "c=[]\n",
    "\n",
    "strtFuel= 120\n",
    "milePerGln = 6.2\n",
    "tankCap= 200\n",
    "minFuel= 40\n",
    "endFuel= 100\n",
    "minPrch = 70\n",
    "\n",
    "#setting route and truck stops\n",
    "while (1):\n",
    "    for i in range (numberOfStops):\n",
    "        dist = stats.gamma.rvs(0.5, loc=-0.05, scale=80.5)\n",
    "        while (dist<=0):\n",
    "            dist = stats.gamma.rvs(0.5, loc=-0.05, scale=80.5) \n",
    "        m.append(dist)\n",
    "        a.append(stats.expon.rvs(scale=1/2.46))\n",
    "        c.append(stats.norm.rvs(loc=2.416,scale=0.362))\n",
    "    if (len([i for i in range(numberOfStops) if (np.cumsum(m)[i] > 300 and np.cumsum(m)[i] <= 500)])>0):\n",
    "        break # avoid extreme environment\n",
    "\n",
    "\n",
    "#setting distance (miles) from truck stop n to destination\n",
    "dist = stats.gamma.rvs(0.5, loc=-0.05, scale=80.5)\n",
    "while (dist<=0):\n",
    "    dist = stats.gamma.rvs(0.5, loc=-0.05, scale=80.5)\n",
    "m.append(dist)\n",
    "        \n",
    "ax.hist(a, density=True, histtype='stepfilled', alpha=0.2)\n",
    "plt.show()\n",
    "fit_alpha, fit_loc, fit_beta=stats.gamma.fit(m)\n",
    "\n",
    "print('Average out-of-route miles to TS : ',np.mean(a),'\\n')\n",
    "print('gamma distribution parameter : ', fit_alpha, fit_loc, fit_beta,'\\n')\n",
    "print('Miles from one TS to another' ,len(m),'\\n',m)\n"
   ]
  },
  {
   "cell_type": "markdown",
   "metadata": {},
   "source": [
    "## Days and Price Movement\n"
   ]
  },
  {
   "cell_type": "code",
   "execution_count": 3,
   "metadata": {},
   "outputs": [],
   "source": [
    "day=[]\n",
    "for i in np.cumsum(m):\n",
    "    day.append(i//700)\n",
    "\n",
    "# actual price after price movement (from day to day)\n",
    "realc = []\n",
    "for i in range(numberOfStops):\n",
    "    k = c[i]\n",
    "    for j in range(int(day[i])):\n",
    "        k += stats.norm.rvs(loc=0,scale=0.1617)\n",
    "    realc.append(k)\n",
    "\n",
    "# Price forecast error\n",
    "prdc = []\n",
    "for i in range(numberOfStops):\n",
    "    k = realc[i]\n",
    "    if (int(day[i])>0):\n",
    "        k += stats.norm.rvs(loc=0,scale=0.09996)\n",
    "    prdc.append(k)"
   ]
  },
  {
   "cell_type": "markdown",
   "metadata": {},
   "source": [
    "# A sample route"
   ]
  },
  {
   "cell_type": "markdown",
   "metadata": {},
   "source": [
    "![alt text](aaa.png \"Title\")"
   ]
  },
  {
   "cell_type": "code",
   "execution_count": 4,
   "metadata": {},
   "outputs": [
    {
     "data": {
      "text/plain": [
       "<matplotlib.collections.PathCollection at 0x1a21ae3908>"
      ]
     },
     "execution_count": 4,
     "metadata": {},
     "output_type": "execute_result"
    },
    {
     "data": {
      "image/png": "[encoded data removed]",
      "text/plain": [
       "<Figure size 432x288 with 1 Axes>"
      ]
     },
     "metadata": {
      "needs_background": "light"
     },
     "output_type": "display_data"
    }
   ],
   "source": [
    "for i in range (numberOfStops):\n",
    "    plt.scatter(np.cumsum(m)[i],a[i], s=c[i]**3, c='b')\n",
    "\n",
    "plt.scatter(np.cumsum(m)[numberOfStops],0, s=50, c='g') # final destination"
   ]
  },
  {
   "cell_type": "markdown",
   "metadata": {},
   "source": [
    "#  Fuel Optimizers\n",
    "\n",
    "***\n",
    "\n",
    "- Linear programing\n",
    "\n",
    "there will be 3i +1 variable\n",
    "\n",
    "![alt text](bbb.png \"Title\")"
   ]
  },
  {
   "cell_type": "code",
   "execution_count": 5,
   "metadata": {},
   "outputs": [],
   "source": [
    "from pulp import*\n",
    "\n",
    "#problem\n",
    "prob = LpProblem(\"The fuel optimizer Problem\",LpMinimize)\n",
    "\n",
    "#varible\n",
    "x = [LpVariable('X%d'%i,lowBound = 0, cat='Binary') for i in range(numberOfStops)]  # 1 if truck stop i is selected as a refueling point, 0 otherwise\n",
    "prch = [LpVariable('prch%d'%i,lowBound = 0, cat='Continuous') for i in range(numberOfStops)] # nonnegative amount of fuel (gallons) to purchase at truck stop i\n",
    "tnk = [LpVariable('tnk%d'%i,lowBound = minFuel, cat='Continuous') for i in range(numberOfStops)] # nonnegative amount of fuel in tank either at truck stop i before buying fuel (if x= 1) or at the point nearest to i along the route (if x= 0)\n",
    "rmnFuel = LpVariable('rmnFuel',lowBound = endFuel, cat='Continuous') # remaining fuel at the final destination \n",
    "\n",
    "#objective function\n",
    "prob += lpSum([c[i]*prch[i] for i in range(numberOfStops)])\n",
    "\n",
    "#constraints\n",
    "for i in range(numberOfStops):\n",
    "    prob += minPrch*x[i]<=prch[i] #prch lower bound\n",
    "    prob += tankCap*x[i]>=prch[i] #prch upper bound\n",
    "    prob += tankCap>=prch[i]+tnk[i] \n",
    "for i in range(1,numberOfStops):\n",
    "    prob += tnk[i-1]+prch[i-1]-(x[i-1]*a[i-1]+m[i]+x[i]*a[i])/milePerGln == tnk[i]\n",
    "prob += strtFuel-(m[0]+x[0]*a[0])/milePerGln == tnk[0]\n",
    "prob += tnk[numberOfStops-1]+prch[numberOfStops-1]-(x[numberOfStops-1]*a[numberOfStops-1]+m[numberOfStops])/milePerGln == rmnFuel\n"
   ]
  },
  {
   "cell_type": "code",
   "execution_count": 6,
   "metadata": {},
   "outputs": [
    {
     "data": {
      "text/plain": [
       "1"
      ]
     },
     "execution_count": 6,
     "metadata": {},
     "output_type": "execute_result"
    }
   ],
   "source": [
    "prob.solve()"
   ]
  },
  {
   "cell_type": "markdown",
   "metadata": {},
   "source": [
    "## Result"
   ]
  },
  {
   "cell_type": "code",
   "execution_count": 7,
   "metadata": {},
   "outputs": [
    {
     "name": "stdout",
     "output_type": "stream",
     "text": [
      "X0 = 0.0  add 0.0 fuel to 113.7587\n",
      "X1 = 0.0  add 0.0 fuel to 100.6303\n",
      "X2 = 0.0  add 0.0 fuel to 96.126011\n",
      "X3 = 1.0  add 95.915225 fuel to 96.018342\n",
      "X4 = 0.0  add 0.0 fuel to 186.42875\n",
      "X5 = 0.0  add 0.0 fuel to 177.13053\n",
      "X6 = 0.0  add 0.0 fuel to 176.69744\n",
      "X7 = 0.0  add 0.0 fuel to 176.25864\n",
      "X8 = 0.0  add 0.0 fuel to 175.94211\n",
      "X9 = 0.0  add 0.0 fuel to 164.38802\n",
      "X10 = 0.0  add 0.0 fuel to 157.91775\n",
      "X11 = 0.0  add 0.0 fuel to 157.72107\n",
      "X12 = 0.0  add 0.0 fuel to 157.36326\n",
      "X13 = 0.0  add 0.0 fuel to 157.19316\n",
      "X14 = 0.0  add 0.0 fuel to 157.12576\n",
      "X15 = 0.0  add 0.0 fuel to 103.91245\n",
      "X16 = 0.0  add 0.0 fuel to 102.85352\n",
      "X17 = 0.0  add 0.0 fuel to 87.690362\n",
      "X18 = 0.0  add 0.0 fuel to 56.553712\n",
      "X19 = 0.0  add 0.0 fuel to 45.610347\n",
      "X20 = 0.0  add 0.0 fuel to 45.302616\n",
      "X21 = 0.0  add 0.0 fuel to 41.276416\n",
      "X22 = 1.0  add 160.0 fuel to 40.0\n",
      "X23 = 0.0  add 0.0 fuel to 188.54107\n",
      "X24 = 0.0  add 0.0 fuel to 173.88141\n",
      "X25 = 0.0  add 0.0 fuel to 164.85323\n",
      "X26 = 0.0  add 0.0 fuel to 163.02151\n",
      "X27 = 0.0  add 0.0 fuel to 162.47719\n",
      "X28 = 0.0  add 0.0 fuel to 145.15612\n",
      "X29 = 0.0  add 0.0 fuel to 143.17992\n",
      "X30 = 0.0  add 0.0 fuel to 143.15149\n",
      "X31 = 0.0  add 0.0 fuel to 142.11118\n",
      "X32 = 0.0  add 0.0 fuel to 142.02576\n",
      "X33 = 0.0  add 0.0 fuel to 141.48982\n",
      "X34 = 0.0  add 0.0 fuel to 116.08928\n",
      "X35 = 0.0  add 0.0 fuel to 115.5173\n",
      "X36 = 0.0  add 0.0 fuel to 113.34231\n",
      "X37 = 0.0  add 0.0 fuel to 104.79273\n",
      "X38 = 0.0  add 0.0 fuel to 94.567876\n",
      "X39 = 0.0  add 0.0 fuel to 93.623996\n",
      "X40 = 0.0  add 0.0 fuel to 85.953639\n",
      "X41 = 0.0  add 0.0 fuel to 72.044622\n",
      "X42 = 0.0  add 0.0 fuel to 71.415687\n",
      "X43 = 0.0  add 0.0 fuel to 67.354397\n",
      "X44 = 0.0  add 0.0 fuel to 61.882744\n",
      "X45 = 0.0  add 0.0 fuel to 46.470243\n",
      "X46 = 0.0  add 0.0 fuel to 43.232655\n",
      "X47 = 1.0  add 92.174267 fuel to 43.196249\n",
      "X48 = 0.0  add 0.0 fuel to 134.70989\n",
      "X49 = 0.0  add 0.0 fuel to 133.95243\n",
      "X50 = 0.0  add 0.0 fuel to 133.6804\n",
      "X51 = 0.0  add 0.0 fuel to 131.29142\n",
      "X52 = 0.0  add 0.0 fuel to 131.25313\n",
      "X53 = 0.0  add 0.0 fuel to 121.53967\n",
      "X54 = 0.0  add 0.0 fuel to 118.97459\n",
      "X55 = 0.0  add 0.0 fuel to 117.38512\n",
      "X56 = 0.0  add 0.0 fuel to 111.34994\n",
      "X57 = 0.0  add 0.0 fuel to 110.81714\n",
      "X58 = 0.0  add 0.0 fuel to 104.24967\n",
      "X59 = 0.0  add 0.0 fuel to 104.07204\n",
      "\n",
      " remaining fuel at the final destination :  100.0\n"
     ]
    },
    {
     "data": {
      "image/png": "[encoded data removed]",
      "text/plain": [
       "<Figure size 432x288 with 1 Axes>"
      ]
     },
     "metadata": {
      "needs_background": "light"
     },
     "output_type": "display_data"
    }
   ],
   "source": [
    "for i in range(numberOfStops):\n",
    "    print(x[i],\"=\",x[i].value(),' add',prch[i].value(),'fuel to',tnk[i].value())\n",
    "    plt.scatter(np.cumsum(m)[i],a[i], s=c[i]**3, c=['b','r'][x[i].value()==1])\n",
    "plt.scatter(np.cumsum(m)[numberOfStops],0, s=50, c='g') # final destination\n",
    "\n",
    "print('\\n','remaining fuel at the final destination : ',rmnFuel.value())"
   ]
  },
  {
   "cell_type": "markdown",
   "metadata": {},
   "source": [
    "## Fuel in Tank movement"
   ]
  },
  {
   "cell_type": "code",
   "execution_count": 8,
   "metadata": {},
   "outputs": [
    {
     "data": {
      "text/plain": [
       "[<matplotlib.lines.Line2D at 0x1a21d784e0>]"
      ]
     },
     "execution_count": 8,
     "metadata": {},
     "output_type": "execute_result"
    },
    {
     "data": {
      "image/png": "[encoded data removed]",
      "text/plain": [
       "<Figure size 432x288 with 1 Axes>"
      ]
     },
     "metadata": {
      "needs_background": "light"
     },
     "output_type": "display_data"
    }
   ],
   "source": [
    "route=[]\n",
    "tank=[]\n",
    "for i in range(numberOfStops):\n",
    "    route.append(np.cumsum(m)[i])\n",
    "    tank.append(tnk[i].value())\n",
    "\n",
    "route.append(np.cumsum(m)[numberOfStops]) # final destination\n",
    "tank.append(rmnFuel.value())\n",
    "plt.plot(route,tank, '-o')"
   ]
  },
  {
   "cell_type": "markdown",
   "metadata": {},
   "source": [
    "## Performance measure\n",
    "\n",
    "![alt text](ggg.png \"Title\")"
   ]
  },
  {
   "cell_type": "code",
   "execution_count": 9,
   "metadata": {},
   "outputs": [
    {
     "data": {
      "text/plain": [
       "366.91087798777926"
      ]
     },
     "execution_count": 9,
     "metadata": {},
     "output_type": "execute_result"
    }
   ],
   "source": [
    "cumG1=0\n",
    "cumC1=0\n",
    "for i in range(numberOfStops):\n",
    "    cumG1 += prch[i].value()\n",
    "    cumC1 += prch[i].value()*realc[i]\n",
    "\n",
    "cumC1/cumG1*(cumG1-rmnFuel.value())"
   ]
  },
  {
   "cell_type": "markdown",
   "metadata": {},
   "source": [
    "# Proposed method\n",
    "\n",
    "***"
   ]
  },
  {
   "cell_type": "markdown",
   "metadata": {},
   "source": [
    "## The Min–Max problem\n",
    "![alt text](ccc.png \"Title\")\n",
    "![alt text](ddd.png \"Title\")\n",
    "![alt text](eee.png \"Title\")\n",
    "![alt text](fff.png \"Title\")"
   ]
  },
  {
   "cell_type": "code",
   "execution_count": 10,
   "metadata": {},
   "outputs": [
    {
     "name": "stdout",
     "output_type": "stream",
     "text": [
      "[68.58767571982642, 61.77123097155274, 95.29687754858868, 83.38345925791509] [9, 17, 30, 54] [70, 138.22876902844726, 104.70312245141132, 70] 54 134.3883488099398\n"
     ]
    }
   ],
   "source": [
    "loc = rd.sample([i for i in range(len(route)) if (route[i] > 300 and route[i] <= 500)],1)[0]\n",
    "ttnk= strtFuel-(route[loc]+a[loc])/milePerGln\n",
    "\n",
    "tnk2=[]\n",
    "ts=[]\n",
    "prch2=[]\n",
    "p=0\n",
    "\n",
    "while(1):\n",
    "    \n",
    "    tnk2.append(ttnk)\n",
    "    ts.append(loc)\n",
    "    l=[i for i in range(len(route)-1) if (route[i] > 300+route[loc] and route[i] <= 500+route[loc] )]\n",
    "    h=[i for i in range(len(route)-1) if (route[i] > 640+route[loc] and route[i] <= 840+route[loc] )]\n",
    "    \n",
    "    if(len(h)==0):\n",
    "        if(len(l)==0):\n",
    "            p = max(math.ceil((a[loc]+route[len(route)-1]-route[loc])/milePerGln +endFuel - ttnk),minPrch)\n",
    "            prch2.append(p)\n",
    "            rmnFuel2 = ttnk+p-(a[loc]+route[len(route)-1]-route[loc])/milePerGln\n",
    "            break\n",
    "\n",
    "        else:\n",
    "            C = realc[loc]\n",
    "            Cl = sum([prdc[i] for i in l])/len(l)\n",
    "            \n",
    "            if (C == min(C,Cl)):\n",
    "                p = tankCap-ttnk\n",
    "                if ((a[loc]+route[len(route)-1]-route[loc])/milePerGln < tankCap-endFuel):\n",
    "                    prch2.append(p)\n",
    "                    rmnFuel2 = ttnk+p-(a[loc]+route[len(route)-1]-route[loc])/milePerGln\n",
    "                    break\n",
    "\n",
    "                else:\n",
    "                    nloc = rd.sample(l,1)[0]\n",
    "            else:\n",
    "                p = minPrch\n",
    "                nloc = rd.sample(l,1)[0]\n",
    "            \n",
    "            ttnk = ttnk+p-(a[loc]+route[nloc]-route[loc]+a[nloc])/milePerGln\n",
    "\n",
    "            prch2.append(p)\n",
    "            loc=nloc\n",
    "            \n",
    "    else:\n",
    "        C = realc[loc]\n",
    "        if (len(l)==0):\n",
    "            Cl = 100\n",
    "        else:\n",
    "            Cl = sum([prdc[i] for i in l])/len(l)\n",
    "        if (len(h)==0):\n",
    "            Ch = 100\n",
    "        else:\n",
    "            Ch = sum([prdc[i] for i in h])/len(h)\n",
    "\n",
    "\n",
    "\n",
    "        if (C == min(C,Cl,Ch)):\n",
    "            p = tankCap-ttnk\n",
    "            nloc = rd.sample(h,1)[0]\n",
    "        elif (Cl == min(C,Cl,Ch)):\n",
    "            p = minPrch\n",
    "            nloc = rd.sample(l,1)[0]\n",
    "        elif (Ch == min(C,Cl,Ch) and Cl == max(C,Cl,Ch)):\n",
    "            p = tankCap-ttnk\n",
    "            nloc = rd.sample(h,1)[0]\n",
    "        else:\n",
    "            p = minPrch\n",
    "            nloc = rd.sample(l,1)[0]\n",
    "\n",
    "        ttnk = ttnk+p-(a[loc]+route[nloc]-route[loc]+a[nloc])/milePerGln\n",
    "\n",
    "        prch2.append(p)\n",
    "        loc=nloc\n",
    "\n",
    "\n",
    "    \n",
    "    \n",
    "    \n",
    "print(tnk2,ts,prch2,loc,rmnFuel2)\n"
   ]
  },
  {
   "cell_type": "code",
   "execution_count": 11,
   "metadata": {},
   "outputs": [],
   "source": [
    "X=[]\n",
    "for i in range(numberOfStops):\n",
    "    X.append(int(i in ts))\n",
    "    \n",
    "temp = []\n",
    "for i in range(numberOfStops):\n",
    "    if (int(i in ts)):\n",
    "        temp.append(prch2.pop(0))\n",
    "    else:\n",
    "        temp.append(0)\n",
    "prch2=temp"
   ]
  },
  {
   "cell_type": "markdown",
   "metadata": {},
   "source": [
    "## Result"
   ]
  },
  {
   "cell_type": "code",
   "execution_count": 12,
   "metadata": {},
   "outputs": [
    {
     "data": {
      "text/plain": [
       "<matplotlib.collections.PathCollection at 0x1a21fe2eb8>"
      ]
     },
     "execution_count": 12,
     "metadata": {},
     "output_type": "execute_result"
    },
    {
     "data": {
      "image/png": "[encoded data removed]",
      "text/plain": [
       "<Figure size 432x288 with 1 Axes>"
      ]
     },
     "metadata": {
      "needs_background": "light"
     },
     "output_type": "display_data"
    }
   ],
   "source": [
    "for i in range(numberOfStops):\n",
    "    plt.scatter(np.cumsum(m)[i],a[i], s=c[i]**3, c=['b','r'][X[i]==1])\n",
    "plt.scatter(np.cumsum(m)[numberOfStops],0, s=50, c='g') # final destination\n"
   ]
  },
  {
   "cell_type": "markdown",
   "metadata": {},
   "source": [
    "## Fuel in Tank movement"
   ]
  },
  {
   "cell_type": "code",
   "execution_count": 13,
   "metadata": {},
   "outputs": [
    {
     "data": {
      "text/plain": [
       "[<matplotlib.lines.Line2D at 0x1a21d4b748>]"
      ]
     },
     "execution_count": 13,
     "metadata": {},
     "output_type": "execute_result"
    },
    {
     "data": {
      "image/png": "[encoded data removed]",
      "text/plain": [
       "<Figure size 432x288 with 1 Axes>"
      ]
     },
     "metadata": {
      "needs_background": "light"
     },
     "output_type": "display_data"
    }
   ],
   "source": [
    "tank2=[]\n",
    "tank2.append(strtFuel-(m[0]+X[0]*a[0])/milePerGln)\n",
    "for i in range(1,numberOfStops):\n",
    "    tank2.append(tank2[i-1]+prch2[i-1]-(X[i-1]*a[i-1]+m[i]+X[i]*a[i])/milePerGln)\n",
    "\n",
    "tank2.append(rmnFuel2)\n",
    "plt.plot(route,tank2, '-o')\n",
    "    "
   ]
  },
  {
   "cell_type": "markdown",
   "metadata": {},
   "source": [
    "# Simulation experiment"
   ]
  },
  {
   "cell_type": "code",
   "execution_count": 49,
   "metadata": {},
   "outputs": [],
   "source": [
    "numberOfStops=40\n",
    "strtFuel= 120\n",
    "milePerGln = 6.2\n",
    "tankCap= 200\n",
    "minFuel= 40\n",
    "endFuel= 100\n",
    "minPrch = 70\n",
    "Perf1=[]\n",
    "Perf2=[]\n",
    "\n",
    "for exp in range(1000):\n",
    "    #setting route and truck stops\n",
    "    while (1):\n",
    "        m=[]\n",
    "        a=[]\n",
    "        c=[]\n",
    "        for i in range (numberOfStops):\n",
    "            dist = stats.gamma.rvs(0.5, loc=-0.05, scale=80.5)\n",
    "            while (dist<=0):\n",
    "                dist = stats.gamma.rvs(0.5, loc=-0.05, scale=80.5) \n",
    "            m.append(dist)\n",
    "            a.append(stats.expon.rvs(scale=1/2.46))\n",
    "            c.append(stats.norm.rvs(loc=2.416,scale=0.362))\n",
    "        if (len([i for i in range(numberOfStops) if (np.cumsum(m)[i] > 300 and np.cumsum(m)[i] <= 500)])>0):\n",
    "            break # avoid extreme environment\n",
    "\n",
    "\n",
    "    #setting distance (miles) from truck stop n to destination\n",
    "    dist = stats.gamma.rvs(0.5, loc=-0.05, scale=80.5)\n",
    "    while (dist<=0):\n",
    "        dist = stats.gamma.rvs(0.5, loc=-0.05, scale=80.5)\n",
    "    m.append(dist)\n",
    "\n",
    "    # route\n",
    "    route=[]\n",
    "    for i in range(numberOfStops):\n",
    "        route.append(np.cumsum(m)[i])\n",
    "\n",
    "    route.append(np.cumsum(m)[numberOfStops]) # final destination\n",
    "\n",
    "    # assumption day\n",
    "    day=[]\n",
    "    for i in np.cumsum(m):\n",
    "        day.append(i//700)\n",
    "\n",
    "    # actual price after price movement (from day to day)\n",
    "    realc = []\n",
    "    for i in range(numberOfStops):\n",
    "        k = c[i]\n",
    "        for j in range(int(day[i])):\n",
    "            k += stats.norm.rvs(loc=0,scale=0.1617)\n",
    "        realc.append(k)\n",
    "\n",
    "    # Price forecast error\n",
    "    prdc = []\n",
    "    for i in range(numberOfStops):\n",
    "        k = realc[i]\n",
    "        if (int(day[i])>0):\n",
    "            k += stats.norm.rvs(loc=0,scale=0.09996)\n",
    "        prdc.append(k)\n",
    "\n",
    "    #### fuel optimizer\n",
    "    prob.solve()\n",
    "\n",
    "    #### Performance measure\n",
    "    cumG1=0\n",
    "    cumC1=0\n",
    "    for i in range(numberOfStops):\n",
    "        cumG1 += prch[i].value()\n",
    "        cumC1 += prch[i].value()*realc[i]\n",
    "\n",
    "    Perf1.append(cumC1/cumG1*(cumG1-rmnFuel.value()))######\n",
    "\n",
    "\n",
    "    #### propse method\n",
    "    loc = rd.sample([i for i in range(len(route)) if (route[i] > 300 and route[i] <= 500)],1)[0]\n",
    "    ttnk= strtFuel-(route[loc]+a[loc])/milePerGln\n",
    "\n",
    "    tnk2=[]\n",
    "    ts=[]\n",
    "    prch2=[]\n",
    "    p=0\n",
    "\n",
    "    while(1):\n",
    "\n",
    "        tnk2.append(ttnk)\n",
    "        ts.append(loc)\n",
    "        l=[i for i in range(len(route)-1) if (route[i] > 300+route[loc] and route[i] <= 500+route[loc] )]\n",
    "        h=[i for i in range(len(route)-1) if (route[i] > 640+route[loc] and route[i] <= 840+route[loc] )]\n",
    "\n",
    "        if(len(h)==0):\n",
    "            if(len(l)==0):\n",
    "                p = max(math.ceil((a[loc]+route[len(route)-1]-route[loc])/milePerGln +endFuel - ttnk),minPrch)\n",
    "                prch2.append(p)\n",
    "                rmnFuel2 = ttnk+p-(a[loc]+route[len(route)-1]-route[loc])/milePerGln\n",
    "                break\n",
    "\n",
    "            else:\n",
    "                C = realc[loc]\n",
    "                Cl = sum([prdc[i] for i in l])/len(l)\n",
    "\n",
    "                if (C == min(C,Cl)):\n",
    "                    p = tankCap-ttnk\n",
    "                    if ((a[loc]+route[len(route)-1]-route[loc])/milePerGln < tankCap-endFuel):\n",
    "                        prch2.append(p)\n",
    "                        rmnFuel2 = ttnk+p-(a[loc]+route[len(route)-1]-route[loc])/milePerGln\n",
    "                        break\n",
    "\n",
    "                    else:\n",
    "                        nloc = rd.sample(l,1)[0]\n",
    "                else:\n",
    "                    p = minPrch\n",
    "                    nloc = rd.sample(l,1)[0]\n",
    "\n",
    "                ttnk = ttnk+p-(a[loc]+route[nloc]-route[loc]+a[nloc])/milePerGln\n",
    "\n",
    "                prch2.append(p)\n",
    "                loc=nloc\n",
    "\n",
    "        else:\n",
    "            C = realc[loc]\n",
    "            if (len(l)==0):\n",
    "                Cl = 100\n",
    "            else:\n",
    "                Cl = sum([prdc[i] for i in l])/len(l)\n",
    "            if (len(h)==0):\n",
    "                Ch = 100\n",
    "            else:\n",
    "                Ch = sum([prdc[i] for i in h])/len(h)\n",
    "\n",
    "\n",
    "\n",
    "            if (C == min(C,Cl,Ch)):\n",
    "                p = tankCap-ttnk\n",
    "                nloc = rd.sample(h,1)[0]\n",
    "            elif (Cl == min(C,Cl,Ch)):\n",
    "                p = minPrch\n",
    "                nloc = rd.sample(l,1)[0]\n",
    "            elif (Ch == min(C,Cl,Ch) and Cl == max(C,Cl,Ch)):\n",
    "                p = tankCap-ttnk\n",
    "                nloc = rd.sample(h,1)[0]\n",
    "            else:\n",
    "                p = minPrch\n",
    "                nloc = rd.sample(l,1)[0]\n",
    "\n",
    "            ttnk = ttnk+p-(a[loc]+route[nloc]-route[loc]+a[nloc])/milePerGln\n",
    "\n",
    "            prch2.append(p)\n",
    "            loc=nloc\n",
    "\n",
    "    X=[]\n",
    "    for i in range(numberOfStops):\n",
    "        X.append(int(i in ts))\n",
    "\n",
    "    temp = []\n",
    "    for i in range(numberOfStops):\n",
    "        if (int(i in ts)):\n",
    "            temp.append(prch2.pop(0))\n",
    "        else:\n",
    "            temp.append(0)\n",
    "    prch2=temp\n",
    "\n",
    "    #### Performance measure\n",
    "    cumG2=0\n",
    "    cumC2=0\n",
    "    for i in range(numberOfStops):\n",
    "        cumG2 += prch2[i]\n",
    "        cumC2 += prch2[i]*realc[i]\n",
    "\n",
    "    Perf2.append(cumC2/cumG2*(cumG2-rmnFuel2))######"
   ]
  },
  {
   "cell_type": "markdown",
   "metadata": {},
   "source": [
    "## Simulation results :    *Fuel-Optimizer method*"
   ]
  },
  {
   "cell_type": "code",
   "execution_count": 52,
   "metadata": {},
   "outputs": [
    {
     "name": "stdout",
     "output_type": "stream",
     "text": [
      "Mean :  325.8311051227014 \n",
      " STD :  30.757707855756074\n"
     ]
    }
   ],
   "source": [
    "print('Mean : ',sum(Perf1)/len(Perf1),'\\n','STD : ',math.sqrt(sum(pow(x-sum(Perf1)/len(Perf1),2) for x in Perf1) / len(Perf1)))\n"
   ]
  },
  {
   "cell_type": "markdown",
   "metadata": {},
   "source": [
    "## Simulation results :    *Proposed method*"
   ]
  },
  {
   "cell_type": "code",
   "execution_count": 54,
   "metadata": {},
   "outputs": [
    {
     "name": "stdout",
     "output_type": "stream",
     "text": [
      "Mean :  340.50524920627925 \n",
      " STD :  130.73645597846593\n"
     ]
    }
   ],
   "source": [
    "print('Mean : ',sum(Perf2)/len(Perf2),'\\n','STD : ',math.sqrt(sum(pow(x-sum(Perf2)/len(Perf2),2) for x in Perf2) / len(Perf2)))\n"
   ]
  },
  {
   "cell_type": "markdown",
   "metadata": {},
   "source": [
    "![alt text](hhh.png \"Title\")"
   ]
  }
 ],
 "metadata": {
  "kernelspec": {
   "display_name": "Python 3",
   "language": "python",
   "name": "python3"
  },
  "language_info": {
   "codemirror_mode": {
    "name": "ipython",
    "version": 3
   },
   "file_extension": ".py",
   "mimetype": "text/x-python",
   "name": "python",
   "nbconvert_exporter": "python",
   "pygments_lexer": "ipython3",
   "version": "3.7.3"
  }
 },
 "nbformat": 4,
 "nbformat_minor": 2
}
