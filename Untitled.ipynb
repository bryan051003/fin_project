{
 "cells": [
  {
   "cell_type": "markdown",
   "metadata": {},
   "source": [
    "# A decision support system of dynamic vehicle refueling"
   ]
  },
  {
   "cell_type": "code",
   "execution_count": 1,
   "metadata": {},
   "outputs": [],
   "source": [
    "import scipy.stats as stats\n",
    "import random as rd\n",
    "import numpy as np\n",
    "import matplotlib.pyplot as plt\n",
    "import math"
   ]
  },
  {
   "cell_type": "markdown",
   "metadata": {},
   "source": [
    "# Setting Simulation Environment\n",
    "\n",
    "****\n"
   ]
  },
  {
   "cell_type": "markdown",
   "metadata": {},
   "source": [
    "##  Given simulation parameters\n",
    "\n",
    ">### Random Variables\n",
    "- Miles from one TS to another : Gamma → m1, m2, ...\n",
    "- Out-of-route miles to TS (one way): Exponential → a1, a2, ...\n",
    "- Diesel price within region (excl. tax): Normal \n",
    "- Price movement (from day to day): Normal\n",
    "- Price forecast error: Normal\n",
    "\n",
    ">### Constant Term\n",
    "- Tank capacity\n",
    "- Starting fuel\n",
    "- Min gal. to refuel\n",
    "- Min ending fuel\n",
    "- Min fuel to be maintained at all times "
   ]
  },
  {
   "cell_type": "markdown",
   "metadata": {},
   "source": [
    "## Unknow simulation parameters \n",
    "\n",
    ">### Assumption value\n",
    "- Total trip miles (actual miles)\n",
    "- Daily mile (excluding out-of-route)\n",
    "- Miles per gallon"
   ]
  },
  {
   "cell_type": "code",
   "execution_count": null,
   "metadata": {},
   "outputs": [],
   "source": [
    "fig, ax = plt.subplots(1, 1)\n",
    "numberOfStops=60\n",
    "\n",
    "m=[]\n",
    "a=[]\n",
    "c=[]\n",
    "\n",
    "strtFuel= 120\n",
    "milePerGln = 6.2\n",
    "tankCap= 200\n",
    "minFuel= 40\n",
    "endFuel= 100\n",
    "minPrch = 70\n",
    "\n",
    "#setting route and truck stops\n",
    "while (1):\n",
    "    for i in range (numberOfStops):\n",
    "        dist = stats.gamma.rvs(0.5, loc=-0.05, scale=80.5)\n",
    "        while (dist<=0):\n",
    "            dist = stats.gamma.rvs(0.5, loc=-0.05, scale=80.5) \n",
    "        m.append(dist)\n",
    "        a.append(stats.expon.rvs(scale=1/2.46))\n",
    "        c.append(stats.norm.rvs(loc=2.416,scale=0.362))\n",
    "    if (len([i for i in range(numberOfStops) if (np.cumsum(m)[i] > 300 and np.cumsum(m)[i] <= 500)])>0):\n",
    "        break # avoid extreme environment\n",
    "\n",
    "\n",
    "#setting distance (miles) from truck stop n to destination\n",
    "dist = stats.gamma.rvs(0.5, loc=-0.05, scale=80.5)\n",
    "while (dist<=0):\n",
    "    dist = stats.gamma.rvs(0.5, loc=-0.05, scale=80.5)\n",
    "m.append(dist)\n",
    "        \n",
    "ax.hist(a, density=True, histtype='stepfilled', alpha=0.2)\n",
    "plt.show()\n",
    "fit_alpha, fit_loc, fit_beta=stats.gamma.fit(m)\n",
    "\n",
    "print('Average out-of-route miles to TS : ',np.mean(a),'\\n')\n",
    "print('gamma distribution parameter : ', fit_alpha, fit_loc, fit_beta,'\\n')\n",
    "print('Miles from one TS to another' ,len(m),'\\n',m)\n"
   ]
  },
  {
   "cell_type": "markdown",
   "metadata": {},
   "source": [
    "## Days and Price Movement\n"
   ]
  },
  {
   "cell_type": "code",
   "execution_count": 9,
   "metadata": {},
   "outputs": [],
   "source": [
    "day=[]\n",
    "for i in np.cumsum(m):\n",
    "    day.append(i//700)\n",
    "\n",
    "# actual price after price movement (from day to day)\n",
    "realc = []\n",
    "for i in range(numberOfStops):\n",
    "    k = c[i]\n",
    "    for j in range(int(day[i])):\n",
    "        k += stats.norm.rvs(loc=0,scale=0.1617)\n",
    "    realc.append(k)\n",
    "\n",
    "# Price forecast error\n",
    "prdc = []\n",
    "for i in range(numberOfStops):\n",
    "    k = realc[i]\n",
    "    if (int(day[i])>0):\n",
    "        k += stats.norm.rvs(loc=0,scale=0.09996)\n",
    "    prdc.append(k)"
   ]
  },
  {
   "cell_type": "markdown",
   "metadata": {},
   "source": [
    "# A sample route"
   ]
  },
  {
   "cell_type": "markdown",
   "metadata": {},
   "source": [
    "![alt text](aaa.png \"Title\")"
   ]
  },
  {
   "cell_type": "code",
   "execution_count": 4,
   "metadata": {},
   "outputs": [
    {
     "data": {
      "text/plain": [
       "<matplotlib.collections.PathCollection at 0x1a2474cef0>"
      ]
     },
     "execution_count": 4,
     "metadata": {},
     "output_type": "execute_result"
    },
    {
     "data": {
      "image/png": "[encoded data removed]",
      "text/plain": [
       "<Figure size 432x288 with 1 Axes>"
      ]
     },
     "metadata": {
      "needs_background": "light"
     },
     "output_type": "display_data"
    }
   ],
   "source": [
    "for i in range (numberOfStops):\n",
    "    plt.scatter(np.cumsum(m)[i],a[i], s=c[i]**3, c='b')\n",
    "\n",
    "plt.scatter(np.cumsum(m)[numberOfStops],0, s=50, c='g') # final destination"
   ]
  },
  {
   "cell_type": "markdown",
   "metadata": {},
   "source": [
    "#  Fuel Optimizers\n",
    "\n",
    "***\n",
    "\n",
    "- Linear programing\n",
    "\n",
    "there will be 3i +1 variable\n",
    "\n",
    "![alt text](bbb.png \"Title\")"
   ]
  },
  {
   "cell_type": "code",
   "execution_count": 14,
   "metadata": {},
   "outputs": [],
   "source": [
    "from pulp import*\n",
    "\n",
    "#problem\n",
    "prob = LpProblem(\"The fuel optimizer Problem\",LpMinimize)\n",
    "\n",
    "#varible\n",
    "x = [LpVariable('X%d'%i,lowBound = 0, cat='Binary') for i in range(numberOfStops)]  # 1 if truck stop i is selected as a refueling point, 0 otherwise\n",
    "prch = [LpVariable('prch%d'%i,lowBound = 0, cat='Continuous') for i in range(numberOfStops)] # nonnegative amount of fuel (gallons) to purchase at truck stop i\n",
    "tnk = [LpVariable('tnk%d'%i,lowBound = minFuel, cat='Continuous') for i in range(numberOfStops)] # nonnegative amount of fuel in tank either at truck stop i before buying fuel (if x= 1) or at the point nearest to i along the route (if x= 0)\n",
    "rmnFuel = LpVariable('rmnFuel',lowBound = endFuel, cat='Continuous') # remaining fuel at the final destination \n",
    "\n",
    "#objective function\n",
    "prob += lpSum([c[i]*prch[i] for i in range(numberOfStops)])\n",
    "\n",
    "#constraints\n",
    "for i in range(numberOfStops):\n",
    "    prob += minPrch*x[i]<=prch[i] #prch lower bound\n",
    "    prob += tankCap*x[i]>=prch[i] #prch upper bound\n",
    "    prob += tankCap>=prch[i]+tnk[i] \n",
    "for i in range(1,numberOfStops):\n",
    "    prob += tnk[i-1]+prch[i-1]-(x[i-1]*a[i-1]+m[i]+x[i]*a[i])/milePerGln == tnk[i]\n",
    "prob += strtFuel-(m[0]+x[0]*a[0])/milePerGln == tnk[0]\n",
    "prob += tnk[numberOfStops-1]+prch[numberOfStops-1]-(x[numberOfStops-1]*a[numberOfStops-1]+m[numberOfStops])/milePerGln == rmnFuel\n"
   ]
  },
  {
   "cell_type": "code",
   "execution_count": 15,
   "metadata": {},
   "outputs": [
    {
     "data": {
      "text/plain": [
       "1"
      ]
     },
     "execution_count": 15,
     "metadata": {},
     "output_type": "execute_result"
    }
   ],
   "source": [
    "prob.solve()"
   ]
  },
  {
   "cell_type": "markdown",
   "metadata": {},
   "source": [
    "## Result"
   ]
  },
  {
   "cell_type": "code",
   "execution_count": 16,
   "metadata": {},
   "outputs": [
    {
     "name": "stdout",
     "output_type": "stream",
     "text": [
      "X0 = 0.0  add 0.0 fuel to 101.43575\n",
      "X1 = 1.0  add 70.0 fuel to 100.78379\n",
      "X2 = 0.0  add 0.0 fuel to 170.40361\n",
      "X3 = 0.0  add 0.0 fuel to 170.12176\n",
      "X4 = 0.0  add 0.0 fuel to 164.83513\n",
      "X5 = 0.0  add 0.0 fuel to 164.07398\n",
      "X6 = 0.0  add 0.0 fuel to 163.86125\n",
      "X7 = 0.0  add 0.0 fuel to 153.20593\n",
      "X8 = 0.0  add 0.0 fuel to 150.90991\n",
      "X9 = 0.0  add 0.0 fuel to 143.58987\n",
      "X10 = 0.0  add 0.0 fuel to 141.28631\n",
      "X11 = 0.0  add 0.0 fuel to 141.24847\n",
      "X12 = 0.0  add 0.0 fuel to 122.17135\n",
      "X13 = 0.0  add 0.0 fuel to 118.21424\n",
      "X14 = 0.0  add 0.0 fuel to 115.2855\n",
      "X15 = 0.0  add 0.0 fuel to 112.22452\n",
      "X16 = 0.0  add 0.0 fuel to 110.40189\n",
      "X17 = 0.0  add 0.0 fuel to 107.1261\n",
      "X18 = 0.0  add 0.0 fuel to 105.16395\n",
      "X19 = 0.0  add 0.0 fuel to 102.38768\n",
      "X20 = 0.0  add 0.0 fuel to 91.916075\n",
      "X21 = 0.0  add 0.0 fuel to 75.633675\n",
      "X22 = 0.0  add 0.0 fuel to 75.271115\n",
      "X23 = 1.0  add 70.0 fuel to 64.668529\n",
      "X24 = 0.0  add 0.0 fuel to 132.66425\n",
      "X25 = 0.0  add 0.0 fuel to 131.83777\n",
      "X26 = 0.0  add 0.0 fuel to 131.35705\n",
      "X27 = 0.0  add 0.0 fuel to 131.22474\n",
      "X28 = 0.0  add 0.0 fuel to 98.937821\n",
      "X29 = 0.0  add 0.0 fuel to 94.978523\n",
      "X30 = 0.0  add 0.0 fuel to 84.803906\n",
      "X31 = 0.0  add 0.0 fuel to 83.391867\n",
      "X32 = 0.0  add 0.0 fuel to 83.186567\n",
      "X33 = 0.0  add 0.0 fuel to 68.099936\n",
      "X34 = 1.0  add 94.633832 fuel to 64.316837\n",
      "X35 = 0.0  add 0.0 fuel to 157.56708\n",
      "X36 = 0.0  add 0.0 fuel to 157.23607\n",
      "X37 = 0.0  add 0.0 fuel to 141.99037\n",
      "X38 = 0.0  add 0.0 fuel to 141.91915\n",
      "X39 = 0.0  add 0.0 fuel to 136.53516\n",
      "X40 = 0.0  add 0.0 fuel to 136.41591\n",
      "X41 = 1.0  add 70.0 fuel to 130.0\n",
      "X42 = 0.0  add 0.0 fuel to 196.45588\n",
      "X43 = 0.0  add 0.0 fuel to 177.779\n",
      "X44 = 0.0  add 0.0 fuel to 176.8463\n",
      "X45 = 0.0  add 0.0 fuel to 176.81065\n",
      "X46 = 0.0  add 0.0 fuel to 127.0803\n",
      "X47 = 0.0  add 0.0 fuel to 126.38367\n",
      "X48 = 0.0  add 0.0 fuel to 126.27933\n",
      "X49 = 0.0  add 0.0 fuel to 108.91866\n",
      "X50 = 0.0  add 0.0 fuel to 107.80504\n",
      "X51 = 0.0  add 0.0 fuel to 103.8537\n",
      "X52 = 0.0  add 0.0 fuel to 68.071577\n",
      "X53 = 0.0  add 0.0 fuel to 68.052852\n",
      "X54 = 0.0  add 0.0 fuel to 62.072225\n",
      "X55 = 0.0  add 0.0 fuel to 61.485017\n",
      "X56 = 1.0  add 100.74955 fuel to 56.361913\n",
      "X57 = 0.0  add 0.0 fuel to 145.53492\n",
      "X58 = 0.0  add 0.0 fuel to 142.67305\n",
      "X59 = 0.0  add 0.0 fuel to 130.72308\n",
      "\n",
      " remaining fuel at the final destination :  100.0\n"
     ]
    },
    {
     "data": {
      "image/png": "[encoded data removed]",
      "text/plain": [
       "<Figure size 432x288 with 1 Axes>"
      ]
     },
     "metadata": {
      "needs_background": "light"
     },
     "output_type": "display_data"
    }
   ],
   "source": [
    "for i in range(numberOfStops):\n",
    "    print(x[i],\"=\",x[i].value(),' add',prch[i].value(),'fuel to',tnk[i].value())\n",
    "    plt.scatter(np.cumsum(m)[i],a[i], s=c[i]**2+10, c=['b','r'][x[i].value()==1])\n",
    "plt.scatter(np.cumsum(m)[numberOfStops],0, s=50, c='g') # final destination\n",
    "\n",
    "print('\\n','remaining fuel at the final destination : ',rmnFuel.value())"
   ]
  },
  {
   "cell_type": "markdown",
   "metadata": {},
   "source": [
    "## Fuel in Tank movement"
   ]
  },
  {
   "cell_type": "code",
   "execution_count": 8,
   "metadata": {},
   "outputs": [
    {
     "data": {
      "text/plain": [
       "[<matplotlib.lines.Line2D at 0x1a2467d470>]"
      ]
     },
     "execution_count": 8,
     "metadata": {},
     "output_type": "execute_result"
    },
    {
     "data": {
      "image/png": "[encoded data removed]",
      "text/plain": [
       "<Figure size 432x288 with 1 Axes>"
      ]
     },
     "metadata": {
      "needs_background": "light"
     },
     "output_type": "display_data"
    }
   ],
   "source": [
    "route=[]\n",
    "tank=[]\n",
    "for i in range(numberOfStops):\n",
    "    route.append(np.cumsum(m)[i])\n",
    "    tank.append(tnk[i].value())\n",
    "\n",
    "route.append(np.cumsum(m)[numberOfStops]) # final destination\n",
    "tank.append(rmnFuel.value())\n",
    "plt.plot(route,tank, '-o')"
   ]
  },
  {
   "cell_type": "markdown",
   "metadata": {},
   "source": [
    "## Performance measure\n",
    "\n",
    "![alt text](ggg.png \"Title\")"
   ]
  },
  {
   "cell_type": "code",
   "execution_count": 55,
   "metadata": {},
   "outputs": [
    {
     "data": {
      "text/plain": [
       "371.40151978242795"
      ]
     },
     "execution_count": 55,
     "metadata": {},
     "output_type": "execute_result"
    }
   ],
   "source": [
    "cumG1=0\n",
    "cumC1=0\n",
    "for i in range(numberOfStops):\n",
    "    cumG1 += prch[i].value()\n",
    "    cumC1 += prch[i].value()*realc[i]\n",
    "\n",
    "cumC1/cumG1*(cumG1-rmnFuel.value())"
   ]
  },
  {
   "cell_type": "markdown",
   "metadata": {},
   "source": [
    "# Proposed method\n",
    "\n",
    "***"
   ]
  },
  {
   "cell_type": "markdown",
   "metadata": {},
   "source": [
    "## The Min–Max problem\n",
    "![alt text](ccc.png \"Title\")\n",
    "![alt text](ddd.png \"Title\")\n",
    "![alt text](eee.png \"Title\")\n",
    "![alt text](fff.png \"Title\")"
   ]
  },
  {
   "cell_type": "code",
   "execution_count": 10,
   "metadata": {},
   "outputs": [
    {
     "name": "stdout",
     "output_type": "stream",
     "text": [
      "[71.25570540967881, 73.67125541471876, 76.90576041106887, 135.55670140447097] [11, 30, 47, 54] [128.7442945903212, 126.32874458528124, 123.09423958893113, 70] 54 142.78339029502405\n"
     ]
    }
   ],
   "source": [
    "loc = rd.sample([i for i in range(len(route)) if (route[i] > 300 and route[i] <= 500)],1)[0]\n",
    "ttnk= strtFuel-(route[loc]+a[loc])/milePerGln\n",
    "\n",
    "tnk2=[]\n",
    "ts=[]\n",
    "prch2=[]\n",
    "p=0\n",
    "\n",
    "while(1):\n",
    "    \n",
    "    tnk2.append(ttnk)\n",
    "    ts.append(loc)\n",
    "    l=[i for i in range(len(route)-1) if (route[i] > 300+route[loc] and route[i] <= 500+route[loc] )]\n",
    "    h=[i for i in range(len(route)-1) if (route[i] > 640+route[loc] and route[i] <= 840+route[loc] )]\n",
    "    \n",
    "    if(len(h)==0):\n",
    "        if(len(l)==0):\n",
    "            p = max(math.ceil((a[loc]+route[len(route)-1]-route[loc])/milePerGln +endFuel - ttnk),minPrch)\n",
    "            prch2.append(p)\n",
    "            rmnFuel2 = ttnk+p-(a[loc]+route[len(route)-1]-route[loc])/milePerGln\n",
    "            break\n",
    "\n",
    "        else:\n",
    "            C = realc[loc]\n",
    "            Cl = sum([prdc[i] for i in l])/len(l)\n",
    "            \n",
    "            if (C == min(C,Cl)):\n",
    "                p = tankCap-ttnk\n",
    "                if ((a[loc]+route[len(route)-1]-route[loc])/milePerGln < tankCap-endFuel):\n",
    "                    prch2.append(p)\n",
    "                    rmnFuel2 = ttnk+p-(a[loc]+route[len(route)-1]-route[loc])/milePerGln\n",
    "                    break\n",
    "\n",
    "                else:\n",
    "                    nloc = rd.sample(l,1)[0]\n",
    "            else:\n",
    "                p = minPrch\n",
    "                nloc = rd.sample(l,1)[0]\n",
    "            \n",
    "            ttnk = ttnk+p-(a[loc]+route[nloc]-route[loc]+a[nloc])/milePerGln\n",
    "\n",
    "            prch2.append(p)\n",
    "            loc=nloc\n",
    "            \n",
    "    else:\n",
    "        C = realc[loc]\n",
    "        if (len(l)==0):\n",
    "            Cl = 100\n",
    "        else:\n",
    "            Cl = sum([prdc[i] for i in l])/len(l)\n",
    "        if (len(h)==0):\n",
    "            Ch = 100\n",
    "        else:\n",
    "            Ch = sum([prdc[i] for i in h])/len(h)\n",
    "\n",
    "\n",
    "\n",
    "        if (C == min(C,Cl,Ch)):\n",
    "            p = tankCap-ttnk\n",
    "            nloc = rd.sample(h,1)[0]\n",
    "        elif (Cl == min(C,Cl,Ch)):\n",
    "            p = minPrch\n",
    "            nloc = rd.sample(l,1)[0]\n",
    "        elif (Ch == min(C,Cl,Ch) and Cl == max(C,Cl,Ch)):\n",
    "            p = tankCap-ttnk\n",
    "            nloc = rd.sample(h,1)[0]\n",
    "        else:\n",
    "            p = minPrch\n",
    "            nloc = rd.sample(l,1)[0]\n",
    "\n",
    "        ttnk = ttnk+p-(a[loc]+route[nloc]-route[loc]+a[nloc])/milePerGln\n",
    "\n",
    "        prch2.append(p)\n",
    "        loc=nloc\n",
    "\n",
    "\n",
    "    \n",
    "    \n",
    "    \n",
    "print(tnk2,ts,prch2,loc,rmnFuel2)\n"
   ]
  },
  {
   "cell_type": "code",
   "execution_count": 11,
   "metadata": {},
   "outputs": [],
   "source": [
    "X=[]\n",
    "for i in range(numberOfStops):\n",
    "    X.append(int(i in ts))\n",
    "    \n",
    "temp = []\n",
    "for i in range(numberOfStops):\n",
    "    if (int(i in ts)):\n",
    "        temp.append(prch2.pop(0))\n",
    "    else:\n",
    "        temp.append(0)\n",
    "prch2=temp"
   ]
  },
  {
   "cell_type": "markdown",
   "metadata": {},
   "source": [
    "## Result"
   ]
  },
  {
   "cell_type": "code",
   "execution_count": 12,
   "metadata": {},
   "outputs": [
    {
     "data": {
      "text/plain": [
       "<matplotlib.collections.PathCollection at 0x1a24c604e0>"
      ]
     },
     "execution_count": 12,
     "metadata": {},
     "output_type": "execute_result"
    },
    {
     "data": {
      "image/png": "[encoded data removed]",
      "text/plain": [
       "<Figure size 432x288 with 1 Axes>"
      ]
     },
     "metadata": {
      "needs_background": "light"
     },
     "output_type": "display_data"
    }
   ],
   "source": [
    "for i in range(numberOfStops):\n",
    "    plt.scatter(np.cumsum(m)[i],a[i], s=c[i]**3, c=['b','r'][X[i]==1])\n",
    "plt.scatter(np.cumsum(m)[numberOfStops],0, s=50, c='g') # final destination\n"
   ]
  },
  {
   "cell_type": "markdown",
   "metadata": {},
   "source": [
    "## Fuel in Tank movement"
   ]
  },
  {
   "cell_type": "code",
   "execution_count": 13,
   "metadata": {},
   "outputs": [
    {
     "data": {
      "text/plain": [
       "[<matplotlib.lines.Line2D at 0x1a24a0ae10>]"
      ]
     },
     "execution_count": 13,
     "metadata": {},
     "output_type": "execute_result"
    },
    {
     "data": {
      "image/png": "[encoded data removed]",
      "text/plain": [
       "<Figure size 432x288 with 1 Axes>"
      ]
     },
     "metadata": {
      "needs_background": "light"
     },
     "output_type": "display_data"
    }
   ],
   "source": [
    "tank2=[]\n",
    "tank2.append(strtFuel-(m[0]+X[0]*a[0])/milePerGln)\n",
    "for i in range(1,numberOfStops):\n",
    "    tank2.append(tank2[i-1]+prch2[i-1]-(X[i-1]*a[i-1]+m[i]+X[i]*a[i])/milePerGln)\n",
    "\n",
    "tank2.append(rmnFuel2)\n",
    "plt.plot(route,tank2, '-o')\n",
    "    "
   ]
  },
  {
   "cell_type": "markdown",
   "metadata": {},
   "source": [
    "# Simulation experiment"
   ]
  },
  {
   "cell_type": "code",
   "execution_count": 49,
   "metadata": {},
   "outputs": [],
   "source": [
    "numberOfStops=40\n",
    "strtFuel= 120\n",
    "milePerGln = 6.2\n",
    "tankCap= 200\n",
    "minFuel= 40\n",
    "endFuel= 100\n",
    "minPrch = 70\n",
    "Perf1=[]\n",
    "Perf2=[]\n",
    "\n",
    "for exp in range(1000):\n",
    "    #setting route and truck stops\n",
    "    while (1):\n",
    "        m=[]\n",
    "        a=[]\n",
    "        c=[]\n",
    "        for i in range (numberOfStops):\n",
    "            dist = stats.gamma.rvs(0.5, loc=-0.05, scale=80.5)\n",
    "            while (dist<=0):\n",
    "                dist = stats.gamma.rvs(0.5, loc=-0.05, scale=80.5) \n",
    "            m.append(dist)\n",
    "            a.append(stats.expon.rvs(scale=1/2.46))\n",
    "            c.append(stats.norm.rvs(loc=2.416,scale=0.362))\n",
    "        if (len([i for i in range(numberOfStops) if (np.cumsum(m)[i] > 300 and np.cumsum(m)[i] <= 500)])>0):\n",
    "            break # avoid extreme environment\n",
    "\n",
    "\n",
    "    #setting distance (miles) from truck stop n to destination\n",
    "    dist = stats.gamma.rvs(0.5, loc=-0.05, scale=80.5)\n",
    "    while (dist<=0):\n",
    "        dist = stats.gamma.rvs(0.5, loc=-0.05, scale=80.5)\n",
    "    m.append(dist)\n",
    "\n",
    "    # route\n",
    "    route=[]\n",
    "    for i in range(numberOfStops):\n",
    "        route.append(np.cumsum(m)[i])\n",
    "\n",
    "    route.append(np.cumsum(m)[numberOfStops]) # final destination\n",
    "\n",
    "    # assumption day\n",
    "    day=[]\n",
    "    for i in np.cumsum(m):\n",
    "        day.append(i//700)\n",
    "\n",
    "    # actual price after price movement (from day to day)\n",
    "    realc = []\n",
    "    for i in range(numberOfStops):\n",
    "        k = c[i]\n",
    "        for j in range(int(day[i])):\n",
    "            k += stats.norm.rvs(loc=0,scale=0.1617)\n",
    "        realc.append(k)\n",
    "\n",
    "    # Price forecast error\n",
    "    prdc = []\n",
    "    for i in range(numberOfStops):\n",
    "        k = realc[i]\n",
    "        if (int(day[i])>0):\n",
    "            k += stats.norm.rvs(loc=0,scale=0.09996)\n",
    "        prdc.append(k)\n",
    "\n",
    "    #### fuel optimizer\n",
    "    prob.solve()\n",
    "\n",
    "    #### Performance measure\n",
    "    cumG1=0\n",
    "    cumC1=0\n",
    "    for i in range(numberOfStops):\n",
    "        cumG1 += prch[i].value()\n",
    "        cumC1 += prch[i].value()*realc[i]\n",
    "\n",
    "    Perf1.append(cumC1/cumG1*(cumG1-rmnFuel.value()))######\n",
    "\n",
    "\n",
    "    #### propse method\n",
    "    loc = rd.sample([i for i in range(len(route)) if (route[i] > 300 and route[i] <= 500)],1)[0]\n",
    "    ttnk= strtFuel-(route[loc]+a[loc])/milePerGln\n",
    "\n",
    "    tnk2=[]\n",
    "    ts=[]\n",
    "    prch2=[]\n",
    "    p=0\n",
    "\n",
    "    while(1):\n",
    "\n",
    "        tnk2.append(ttnk)\n",
    "        ts.append(loc)\n",
    "        l=[i for i in range(len(route)-1) if (route[i] > 300+route[loc] and route[i] <= 500+route[loc] )]\n",
    "        h=[i for i in range(len(route)-1) if (route[i] > 640+route[loc] and route[i] <= 840+route[loc] )]\n",
    "\n",
    "        if(len(h)==0):\n",
    "            if(len(l)==0):\n",
    "                p = max(math.ceil((a[loc]+route[len(route)-1]-route[loc])/milePerGln +endFuel - ttnk),minPrch)\n",
    "                prch2.append(p)\n",
    "                rmnFuel2 = ttnk+p-(a[loc]+route[len(route)-1]-route[loc])/milePerGln\n",
    "                break\n",
    "\n",
    "            else:\n",
    "                C = realc[loc]\n",
    "                Cl = sum([prdc[i] for i in l])/len(l)\n",
    "\n",
    "                if (C == min(C,Cl)):\n",
    "                    p = tankCap-ttnk\n",
    "                    if ((a[loc]+route[len(route)-1]-route[loc])/milePerGln < tankCap-endFuel):\n",
    "                        prch2.append(p)\n",
    "                        rmnFuel2 = ttnk+p-(a[loc]+route[len(route)-1]-route[loc])/milePerGln\n",
    "                        break\n",
    "\n",
    "                    else:\n",
    "                        nloc = rd.sample(l,1)[0]\n",
    "                else:\n",
    "                    p = minPrch\n",
    "                    nloc = rd.sample(l,1)[0]\n",
    "\n",
    "                ttnk = ttnk+p-(a[loc]+route[nloc]-route[loc]+a[nloc])/milePerGln\n",
    "\n",
    "                prch2.append(p)\n",
    "                loc=nloc\n",
    "\n",
    "        else:\n",
    "            C = realc[loc]\n",
    "            if (len(l)==0):\n",
    "                Cl = 100\n",
    "            else:\n",
    "                Cl = sum([prdc[i] for i in l])/len(l)\n",
    "            if (len(h)==0):\n",
    "                Ch = 100\n",
    "            else:\n",
    "                Ch = sum([prdc[i] for i in h])/len(h)\n",
    "\n",
    "\n",
    "\n",
    "            if (C == min(C,Cl,Ch)):\n",
    "                p = tankCap-ttnk\n",
    "                nloc = rd.sample(h,1)[0]\n",
    "            elif (Cl == min(C,Cl,Ch)):\n",
    "                p = minPrch\n",
    "                nloc = rd.sample(l,1)[0]\n",
    "            elif (Ch == min(C,Cl,Ch) and Cl == max(C,Cl,Ch)):\n",
    "                p = tankCap-ttnk\n",
    "                nloc = rd.sample(h,1)[0]\n",
    "            else:\n",
    "                p = minPrch\n",
    "                nloc = rd.sample(l,1)[0]\n",
    "\n",
    "            ttnk = ttnk+p-(a[loc]+route[nloc]-route[loc]+a[nloc])/milePerGln\n",
    "\n",
    "            prch2.append(p)\n",
    "            loc=nloc\n",
    "\n",
    "    X=[]\n",
    "    for i in range(numberOfStops):\n",
    "        X.append(int(i in ts))\n",
    "\n",
    "    temp = []\n",
    "    for i in range(numberOfStops):\n",
    "        if (int(i in ts)):\n",
    "            temp.append(prch2.pop(0))\n",
    "        else:\n",
    "            temp.append(0)\n",
    "    prch2=temp\n",
    "\n",
    "    #### Performance measure\n",
    "    cumG2=0\n",
    "    cumC2=0\n",
    "    for i in range(numberOfStops):\n",
    "        cumG2 += prch2[i]\n",
    "        cumC2 += prch2[i]*realc[i]\n",
    "\n",
    "    Perf2.append(cumC2/cumG2*(cumG2-rmnFuel2))######"
   ]
  },
  {
   "cell_type": "markdown",
   "metadata": {},
   "source": [
    "## Simulation results :    *Fuel-Optimizer method*"
   ]
  },
  {
   "cell_type": "code",
   "execution_count": 52,
   "metadata": {},
   "outputs": [
    {
     "name": "stdout",
     "output_type": "stream",
     "text": [
      "Mean :  325.8311051227014 \n",
      " STD :  30.757707855756074\n"
     ]
    }
   ],
   "source": [
    "print('Mean : ',sum(Perf1)/len(Perf1),'\\n','STD : ',math.sqrt(sum(pow(x-sum(Perf1)/len(Perf1),2) for x in Perf1) / len(Perf1)))\n"
   ]
  },
  {
   "cell_type": "markdown",
   "metadata": {},
   "source": [
    "## Simulation results :    *Proposed method*"
   ]
  },
  {
   "cell_type": "code",
   "execution_count": 54,
   "metadata": {},
   "outputs": [
    {
     "name": "stdout",
     "output_type": "stream",
     "text": [
      "Mean :  340.50524920627925 \n",
      " STD :  130.73645597846593\n"
     ]
    }
   ],
   "source": [
    "print('Mean : ',sum(Perf2)/len(Perf2),'\\n','STD : ',math.sqrt(sum(pow(x-sum(Perf2)/len(Perf2),2) for x in Perf2) / len(Perf2)))\n"
   ]
  },
  {
   "cell_type": "markdown",
   "metadata": {},
   "source": [
    "![alt text](hhh.png \"Title\")"
   ]
  }
 ],
 "metadata": {
  "kernelspec": {
   "display_name": "Python 3",
   "language": "python",
   "name": "python3"
  },
  "language_info": {
   "codemirror_mode": {
    "name": "ipython",
    "version": 3
   },
   "file_extension": ".py",
   "mimetype": "text/x-python",
   "name": "python",
   "nbconvert_exporter": "python",
   "pygments_lexer": "ipython3",
   "version": "3.7.3"
  }
 },
 "nbformat": 4,
 "nbformat_minor": 2
}
